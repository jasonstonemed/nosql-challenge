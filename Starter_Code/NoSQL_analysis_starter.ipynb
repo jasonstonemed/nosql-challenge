{
 "cells": [
  {
   "attachments": {},
   "cell_type": "markdown",
   "id": "9a57c4c6",
   "metadata": {},
   "source": [
    "# Eat Safe, Love"
   ]
  },
  {
   "attachments": {},
   "cell_type": "markdown",
   "id": "064ef857",
   "metadata": {},
   "source": [
    "## Notebook Set Up"
   ]
  },
  {
   "cell_type": "code",
   "execution_count": 98,
   "id": "3ecdd008",
   "metadata": {},
   "outputs": [],
   "source": [
    "# Import dependencies\n",
    "from pymongo import MongoClient\n",
    "from pprint import pprint\n",
    "import pandas as pd\n",
    "pd.set_option('max_colwidth', 400)\n"
   ]
  },
  {
   "cell_type": "code",
   "execution_count": 99,
   "id": "59390c4a",
   "metadata": {},
   "outputs": [],
   "source": [
    "# Create an instance of MongoClient\n",
    "mongo = MongoClient(port=27017)"
   ]
  },
  {
   "cell_type": "code",
   "execution_count": 100,
   "id": "71e373c1",
   "metadata": {},
   "outputs": [],
   "source": [
    "# assign the uk_food database to a variable name\n",
    "db = mongo['uk-food']\n",
    "\n",
    "# assign the collection to a variable\n",
    "collection = db['establishments']"
   ]
  },
  {
   "cell_type": "code",
   "execution_count": 101,
   "id": "18ab463c",
   "metadata": {},
   "outputs": [
    {
     "name": "stdout",
     "output_type": "stream",
     "text": [
      "['admin', 'config', 'fruit_db', 'local', 'met', 'petsitly_marketing', 'travel_db', 'uk-food']\n"
     ]
    }
   ],
   "source": [
    "# review the collections in our database\n",
    "print(mongo.list_database_names())\n"
   ]
  },
  {
   "attachments": {},
   "cell_type": "markdown",
   "id": "d5671434",
   "metadata": {},
   "source": [
    "## Part 3: Exploratory Analysis\n",
    "Unless otherwise stated, for each question: \n",
    "* Use `count_documents` to display the number of documents contained in the result.\n",
    "* Display the first document in the results using `pprint`.\n",
    "* Convert the result to a Pandas DataFrame, print the number of rows in the DataFrame, and display the first 10 rows."
   ]
  },
  {
   "attachments": {},
   "cell_type": "markdown",
   "id": "314bd884",
   "metadata": {},
   "source": [
    "### 1. Which establishments have a hygiene score equal to 20?"
   ]
  },
  {
   "cell_type": "code",
   "execution_count": 102,
   "id": "c2da7648",
   "metadata": {},
   "outputs": [
    {
     "name": "stdout",
     "output_type": "stream",
     "text": [
      "41\n"
     ]
    }
   ],
   "source": [
    "# Find the establishments with a hygiene score of 20 using count_documents\n",
    "hygiene_score = collection.count_documents({'scores.Hygiene': 20})\n",
    "print(hygiene_score)\n"
   ]
  },
  {
   "cell_type": "code",
   "execution_count": 103,
   "id": "a6e5cece",
   "metadata": {},
   "outputs": [
    {
     "name": "stdout",
     "output_type": "stream",
     "text": [
      "38791\n"
     ]
    }
   ],
   "source": [
    "# Convert the result to a Pandas DataFrame\n",
    "buccees_20 = pd.DataFrame(list(collection.find()))\n",
    "\n",
    "# Display the number of rows in the DataFrame\n",
    "print(len(buccees_20))\n"
   ]
  },
  {
   "attachments": {},
   "cell_type": "markdown",
   "id": "0ef4395a",
   "metadata": {},
   "source": [
    "### 2. Which establishments in London have a `RatingValue` greater than or equal to 4?"
   ]
  },
  {
   "cell_type": "code",
   "execution_count": 118,
   "id": "93c63829",
   "metadata": {},
   "outputs": [
    {
     "data": {
      "text/plain": [
       "0"
      ]
     },
     "execution_count": 118,
     "metadata": {},
     "output_type": "execute_result"
    }
   ],
   "source": [
    "# Find the establishments with London as the Local Authority and has a RatingValue greater than or equal to 4.\n",
    "# four_rate = collection.find({'$and': [{'LocalAuthorityName':{'$regex':'London'}}, {'Rating Value': {'$gte': 4}}]})\n",
    "                                             \n",
    "four_rate = collection.count_documents({'RatingValue': {'$gte':'4'}})\n",
    "four_rate\n",
    "\n",
    "# query = {'LocalAuthorityName': {'$regex':'London'}, 'RatingValue': {'$gte':4}}\n",
    "\n",
    "# query = {'$and': [{'LocalAuthorityName':{'$regex':'London'}}, {'Rating Value': {'$gte': 4}}]}\n",
    "# four_rate = collection.find(query)\n",
    "# pprint(four_rate[0])\n",
    "\n",
    "# Use count_documents to display the number of documents in the result\n",
    "# print(collection.count_documents(query))\n",
    "\n",
    "\n",
    "# Display the first document in the results using pprint\n"
   ]
  },
  {
   "cell_type": "code",
   "execution_count": null,
   "id": "07e24ccb",
   "metadata": {},
   "outputs": [],
   "source": [
    "# Convert the result to a Pandas DataFrame\n",
    "\n",
    "# Display the number of rows in the DataFrame\n",
    "\n",
    "# Display the first 10 rows of the DataFrame\n"
   ]
  },
  {
   "attachments": {},
   "cell_type": "markdown",
   "id": "4e570caf",
   "metadata": {},
   "source": [
    "### 3. What are the top 5 establishments with a `RatingValue` rating value of 5, sorted by lowest hygiene score, nearest to the new restaurant added, \"Penang Flavours\"?"
   ]
  },
  {
   "cell_type": "code",
   "execution_count": null,
   "id": "7f599f3d",
   "metadata": {},
   "outputs": [
    {
     "ename": "SyntaxError",
     "evalue": "invalid syntax (848538274.py, line 6)",
     "output_type": "error",
     "traceback": [
      "\u001b[1;36m  File \u001b[1;32m\"C:\\Users\\15127\\AppData\\Local\\Temp\\ipykernel_20964\\848538274.py\"\u001b[1;36m, line \u001b[1;32m6\u001b[0m\n\u001b[1;33m    latitude =\u001b[0m\n\u001b[1;37m               ^\u001b[0m\n\u001b[1;31mSyntaxError\u001b[0m\u001b[1;31m:\u001b[0m invalid syntax\n"
     ]
    }
   ],
   "source": [
    "# Search within 0.01 degree on either side of the latitude and longitude.\n",
    "# Rating value must equal 5\n",
    "# Sort by hygiene score\n",
    "\n",
    "degree_search = 0.01\n",
    "latitude = \n",
    "longitude = \n",
    "\n",
    "query = \n",
    "sort =  \n",
    "\n",
    "# Print the results\n"
   ]
  },
  {
   "cell_type": "code",
   "execution_count": null,
   "id": "a6ad16f7",
   "metadata": {},
   "outputs": [],
   "source": [
    "# Convert result to Pandas DataFrame\n"
   ]
  },
  {
   "attachments": {},
   "cell_type": "markdown",
   "id": "67281254",
   "metadata": {},
   "source": [
    "### 4. How many establishments in each Local Authority area have a hygiene score of 0?"
   ]
  },
  {
   "cell_type": "code",
   "execution_count": null,
   "id": "4eeb227e",
   "metadata": {},
   "outputs": [],
   "source": [
    "# Create a pipeline that: \n",
    "# 1. Matches establishments with a hygiene score of 0\n",
    "# 2. Groups the matches by Local Authority\n",
    "# 3. Sorts the matches from highest to lowest\n",
    "\n",
    "# Print the number of documents in the result\n",
    "\n",
    "# Print the first 10 results\n"
   ]
  },
  {
   "cell_type": "code",
   "execution_count": null,
   "id": "d8aab364",
   "metadata": {},
   "outputs": [],
   "source": [
    "# Convert the result to a Pandas DataFrame\n",
    "\n",
    "# Display the number of rows in the DataFrame\n",
    "\n",
    "# Display the first 10 rows of the DataFrame\n"
   ]
  }
 ],
 "metadata": {
  "kernelspec": {
   "display_name": "Python 3 (ipykernel)",
   "language": "python",
   "name": "python3"
  },
  "language_info": {
   "codemirror_mode": {
    "name": "ipython",
    "version": 3
   },
   "file_extension": ".py",
   "mimetype": "text/x-python",
   "name": "python",
   "nbconvert_exporter": "python",
   "pygments_lexer": "ipython3",
   "version": "3.7.7"
  }
 },
 "nbformat": 4,
 "nbformat_minor": 5
}
